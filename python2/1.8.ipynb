{
 "cells": [
  {
   "cell_type": "markdown",
   "metadata": {},
   "source": [
    "# Detect AES in ECB mode\n",
    "In this file are a bunch of hex-encoded ciphertexts.\n",
    "\n",
    "One of them has been encrypted with ECB.\n",
    "\n",
    "Detect it.\n",
    "\n",
    "Remember that the problem with ECB is that it is stateless and deterministic; the same 16 byte plaintext block will always produce the same 16 byte ciphertext."
   ]
  },
  {
   "cell_type": "code",
   "execution_count": 1,
   "metadata": {
    "collapsed": false
   },
   "outputs": [
    {
     "name": "stderr",
     "output_type": "stream",
     "text": [
      "//anaconda/lib/python2.7/site-packages/matplotlib/font_manager.py:273: UserWarning: Matplotlib is building the font cache using fc-list. This may take a moment.\n",
      "  warnings.warn('Matplotlib is building the font cache using fc-list. This may take a moment.')\n"
     ]
    }
   ],
   "source": [
    "from cryptopals import *"
   ]
  },
  {
   "cell_type": "code",
   "execution_count": 19,
   "metadata": {
    "collapsed": true
   },
   "outputs": [],
   "source": [
    "def find_ECB_encryption(ciphertexts, block_size=16):\n",
    "    '''Finds the ciphertext (in byte array format) most likely to have been encryted using ECB,\n",
    "       due to low Hamming distance between blocks.'''\n",
    "    hamming_distances = []\n",
    "    for ct in ciphertexts:\n",
    "        n_blocks = len(ct) / block_size\n",
    "        avg_distance = np.mean([hamming_distance(ct[i*block_size:(i+1)*block_size],\n",
    "                                                 ct[j*block_size:(j+1)*block_size])\n",
    "                                for i in xrange(n_blocks)\n",
    "                                for j in xrange(i)])\n",
    "        hamming_distances.append(avg_distance)\n",
    "        \n",
    "    return ciphertexts[np.argmin(hamming_distances)]"
   ]
  },
  {
   "cell_type": "code",
   "execution_count": 12,
   "metadata": {
    "collapsed": false
   },
   "outputs": [],
   "source": [
    "with open('Data/8.txt') as f:\n",
    "    x = []\n",
    "    for row in f:\n",
    "        ct = hex_to_bytes(row.strip())\n",
    "        block_size = 16\n",
    "        n_blocks = len(ct) / block_size\n",
    "        hamming_distances = []\n",
    "        for i in xrange(n_blocks):\n",
    "            for j in xrange(i):\n",
    "                hamming_distances.append(hamming_distance(ct[i*block_size:(i+1)*block_size],\n",
    "                                                          ct[j*block_size:(j+1)*block_size]))\n",
    "        x.append(np.mean(hamming_distances))"
   ]
  },
  {
   "cell_type": "code",
   "execution_count": 20,
   "metadata": {
    "collapsed": false
   },
   "outputs": [
    {
     "name": "stdout",
     "output_type": "stream",
     "text": [
      "d880619740a8a19b7840a8a31c810a3d08649af70dc06f4fd5d2d69c744cd283e2dd052f6b641dbf9d11b0348542bb5708649af70dc06f4fd5d2d69c744cd2839475c9dfdbc1d46597949d9c7e82bf5a08649af70dc06f4fd5d2d69c744cd28397a93eab8d6aecd566489154789a6b0308649af70dc06f4fd5d2d69c744cd283d403180c98c8f6db1f2a3f9c4040deb0ab51b29933f2c123c58386b06fba186a\n"
     ]
    }
   ],
   "source": [
    "cts = []\n",
    "with open('Data/8.txt') as f:\n",
    "    for row in f:\n",
    "        cts.append(hex_to_bytes(row.strip()))\n",
    "\n",
    "print bytes_to_hex(find_ECB_encryption(cts))"
   ]
  },
  {
   "cell_type": "code",
   "execution_count": 27,
   "metadata": {
    "collapsed": false
   },
   "outputs": [
    {
     "name": "stdout",
     "output_type": "stream",
     "text": [
      "d880619740a8a19b7840a8a31c810a3d\n",
      "08649af70dc06f4fd5d2d69c744cd283\n",
      "e2dd052f6b641dbf9d11b0348542bb57\n",
      "08649af70dc06f4fd5d2d69c744cd283\n",
      "9475c9dfdbc1d46597949d9c7e82bf5a\n",
      "08649af70dc06f4fd5d2d69c744cd283\n",
      "97a93eab8d6aecd566489154789a6b03\n",
      "08649af70dc06f4fd5d2d69c744cd283\n",
      "d403180c98c8f6db1f2a3f9c4040deb0\n",
      "ab51b29933f2c123c58386b06fba186a\n"
     ]
    }
   ],
   "source": [
    "ct = 'd880619740a8a19b7840a8a31c810a3d08649af70dc06f4fd5d2d69c744cd283e2dd052f6b641dbf9d11b0348542bb5708649af70dc06f4fd5d2d69c744cd2839475c9dfdbc1d46597949d9c7e82bf5a08649af70dc06f4fd5d2d69c744cd28397a93eab8d6aecd566489154789a6b0308649af70dc06f4fd5d2d69c744cd283d403180c98c8f6db1f2a3f9c4040deb0ab51b29933f2c123c58386b06fba186a'\n",
    "for i in xrange(10):\n",
    "    print ct[i*32:(i+1)*32]"
   ]
  },
  {
   "cell_type": "code",
   "execution_count": null,
   "metadata": {
    "collapsed": true
   },
   "outputs": [],
   "source": []
  }
 ],
 "metadata": {
  "kernelspec": {
   "display_name": "Python 2",
   "language": "python",
   "name": "python2"
  },
  "language_info": {
   "codemirror_mode": {
    "name": "ipython",
    "version": 2
   },
   "file_extension": ".py",
   "mimetype": "text/x-python",
   "name": "python",
   "nbconvert_exporter": "python",
   "pygments_lexer": "ipython2",
   "version": "2.7.13"
  }
 },
 "nbformat": 4,
 "nbformat_minor": 2
}
