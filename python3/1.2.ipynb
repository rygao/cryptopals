{
 "cells": [
  {
   "cell_type": "markdown",
   "metadata": {},
   "source": [
    "# Fixed XOR\n",
    "Write a function that takes two equal-length buffers and produces their XOR combination.\n",
    "\n",
    "If your function works properly, then when you feed it the string:\n",
    "```\n",
    "1c0111001f010100061a024b53535009181c\n",
    "```\n",
    "... after hex decoding, and when XOR'd against:\n",
    "```\n",
    "686974207468652062756c6c277320657965\n",
    "```\n",
    "... should produce:\n",
    "```\n",
    "746865206b696420646f6e277420706c6179\n",
    "```"
   ]
  },
  {
   "cell_type": "code",
   "execution_count": 1,
   "metadata": {
    "collapsed": true
   },
   "outputs": [],
   "source": [
    "from cryptopals import *"
   ]
  },
  {
   "cell_type": "code",
   "execution_count": 2,
   "metadata": {
    "collapsed": false
   },
   "outputs": [],
   "source": [
    "def fixed_xor(b1, b2):\n",
    "    '''Produces the XOR combination of two equal-length byte arrays'''\n",
    "    if len(b1) != len(b2):\n",
    "        raise ValueError('input byte arrays must be of the same length', b1, b2)\n",
    "    return bytes([i^j for i,j in zip(b1, b2)])\n",
    "    \n",
    "def fixed_xor_hex(h1, h2):\n",
    "    '''Produces the XOR combination of two equal-length hex-encoded strings'''\n",
    "    return fixed_xor(hex_to_bytes(h1), hex_to_bytes(h2))\n",
    "\n",
    "def bytes_to_hex(b):\n",
    "    '''Converts byte array to hex-encoded string'''\n",
    "    return ''.join('%02x' % byte for byte in b)"
   ]
  },
  {
   "cell_type": "code",
   "execution_count": 3,
   "metadata": {
    "collapsed": false
   },
   "outputs": [
    {
     "data": {
      "text/plain": [
       "[190, 235]"
      ]
     },
     "execution_count": 3,
     "metadata": {},
     "output_type": "execute_result"
    }
   ],
   "source": [
    "[i for i in hex_to_bytes('beeb')]"
   ]
  },
  {
   "cell_type": "code",
   "execution_count": 4,
   "metadata": {
    "collapsed": false
   },
   "outputs": [
    {
     "data": {
      "text/plain": [
       "True"
      ]
     },
     "execution_count": 4,
     "metadata": {},
     "output_type": "execute_result"
    }
   ],
   "source": [
    "bytearray([190,235]) == hex_to_bytes('beeb')"
   ]
  },
  {
   "cell_type": "code",
   "execution_count": 5,
   "metadata": {
    "collapsed": false
   },
   "outputs": [
    {
     "data": {
      "text/plain": [
       "[(190, 171), (235, 205)]"
      ]
     },
     "execution_count": 5,
     "metadata": {},
     "output_type": "execute_result"
    }
   ],
   "source": [
    "list(zip(hex_to_bytes('beeb'), hex_to_bytes('abcd')))"
   ]
  },
  {
   "cell_type": "code",
   "execution_count": null,
   "metadata": {
    "collapsed": true
   },
   "outputs": [],
   "source": []
  },
  {
   "cell_type": "code",
   "execution_count": 6,
   "metadata": {
    "collapsed": false
   },
   "outputs": [
    {
     "name": "stdout",
     "output_type": "stream",
     "text": [
      "746865206b696420646f6e277420706c6179\n",
      "746865206b696420646f6e277420706c6179\n",
      "True\n"
     ]
    }
   ],
   "source": [
    "a = '1c0111001f010100061a024b53535009181c'\n",
    "b = '686974207468652062756c6c277320657965'\n",
    "c = '746865206b696420646f6e277420706c6179'\n",
    "\n",
    "print(bytes_to_hex(fixed_xor_hex(a, b)))\n",
    "print(c)\n",
    "print(bytes_to_hex(fixed_xor_hex(a, b)) == c)"
   ]
  },
  {
   "cell_type": "code",
   "execution_count": null,
   "metadata": {
    "collapsed": true
   },
   "outputs": [],
   "source": []
  }
 ],
 "metadata": {
  "kernelspec": {
   "display_name": "Python 3",
   "language": "python",
   "name": "python3"
  },
  "language_info": {
   "codemirror_mode": {
    "name": "ipython",
    "version": 3
   },
   "file_extension": ".py",
   "mimetype": "text/x-python",
   "name": "python",
   "nbconvert_exporter": "python",
   "pygments_lexer": "ipython3",
   "version": "3.7.1"
  }
 },
 "nbformat": 4,
 "nbformat_minor": 2
}
