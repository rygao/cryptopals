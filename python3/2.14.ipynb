{
 "cells": [
  {
   "cell_type": "markdown",
   "metadata": {},
   "source": [
    "# Byte-at-a-time ECB decryption (Harder)\n",
    "Take your oracle function from #12. Now generate a random count of random bytes and prepend this string to every plaintext. You are now doing:\n",
    "\n",
    "```\n",
    "AES-128-ECB(random-prefix || attacker-controlled || target-bytes, random-key)\n",
    "```\n",
    "\n",
    "Same goal: decrypt the target-bytes.\n",
    "\n",
    "### Stop and think for a second.\n",
    "> What's harder than challenge #12 about doing this? How would you overcome that obstacle? The hint is: you're using all the tools you already have; no crazy math is required.\n",
    ">\n",
    "> Think \"STIMULUS\" and \"RESPONSE\".\n"
   ]
  },
  {
   "cell_type": "code",
   "execution_count": 1,
   "metadata": {},
   "outputs": [],
   "source": [
    "from importlib import reload\n",
    "import cryptopals\n",
    "reload(cryptopals)\n",
    "from cryptopals import *"
   ]
  },
  {
   "cell_type": "code",
   "execution_count": 15,
   "metadata": {},
   "outputs": [],
   "source": [
    "def prepending_ECB_oracle(plaintext, key):\n",
    "    '''Oracle that appends a mystery string to the plaintext input before encrypting via ECB.'''\n",
    "    unknown_string = base64_to_bytes('Um9sbGluJyBpbiBteSA1LjAKV2l0aCBteSByYWctdG9wIGRvd24gc28gbXkgaGFpciBjYW4gYmxvdwpUaGUgZ2lybGllcyBvbiBzdGFuZGJ5IHdhdmluZyBqdXN0IHRvIHNheSBoaQpEaWQgeW91IHN0b3A/IE5vLCBJIGp1c3QgZHJvdmUgYnkK')\n",
    "    random_prefix_len = np.random.randint(AES.block_size*10)+1\n",
    "    random_prefix = generate_random_bytes(random_prefix_len)\n",
    "    plaintext = pad_pkcs7(random_prefix + to_bytes(plaintext) + unknown_string)\n",
    "    \n",
    "    return AES.new(key, AES.MODE_ECB).encrypt(plaintext)\n",
    "\n",
    "def find_unknown_string_from_prepending_oracle():\n",
    "    # generate consistent but unknown key\n",
    "    consistent_unknown_key = generate_random_bytes()\n",
    "    \n",
    "    # find unknown message, one byte at a time\n",
    "    hidden_string = ''\n",
    "    \n",
    "    while True:\n",
    "        idx_next_letter = len(hidden_string)\n",
    "        idx_start_of_block = idx_next_letter - idx_next_letter%BLOCK_SIZE\n",
    "        short_pt = chr(0)*(BLOCK_SIZE-1-idx_next_letter%BLOCK_SIZE)\n",
    "\n",
    "        ct_block_to_char_map = {}\n",
    "        for i in range(256):\n",
    "            pt = short_pt + hidden_string + chr(i)\n",
    "            ct = appending_ECB_oracle(pt, consistent_unknown_key)\n",
    "            unknown_block = ct[idx_start_of_block:idx_start_of_block+BLOCK_SIZE]\n",
    "            ct_block_to_char_map[unknown_block] = chr(i)\n",
    "\n",
    "        ct = appending_ECB_oracle(short_pt, consistent_unknown_key)\n",
    "        unknown_block = ct[idx_start_of_block:idx_start_of_block+BLOCK_SIZE]\n",
    "        if unknown_block not in ct_block_to_char_map:\n",
    "            # signals end of message because padding bytes don't match any possible\n",
    "            return hidden_string[:-1]\n",
    "        hidden_string += ct_block_to_char_map[unknown_block]"
   ]
  },
  {
   "cell_type": "code",
   "execution_count": null,
   "metadata": {},
   "outputs": [],
   "source": []
  },
  {
   "cell_type": "code",
   "execution_count": null,
   "metadata": {},
   "outputs": [],
   "source": []
  },
  {
   "cell_type": "code",
   "execution_count": null,
   "metadata": {},
   "outputs": [],
   "source": []
  },
  {
   "cell_type": "code",
   "execution_count": null,
   "metadata": {},
   "outputs": [],
   "source": []
  },
  {
   "cell_type": "code",
   "execution_count": 7,
   "metadata": {},
   "outputs": [],
   "source": [
    "consistent_unknown_key = generate_random_bytes()"
   ]
  },
  {
   "cell_type": "code",
   "execution_count": 23,
   "metadata": {},
   "outputs": [
    {
     "data": {
      "text/plain": [
       "240"
      ]
     },
     "execution_count": 23,
     "metadata": {},
     "output_type": "execute_result"
    }
   ],
   "source": [
    "len(prepending_ECB_oracle('hi', consistent_unknown_key))"
   ]
  },
  {
   "cell_type": "code",
   "execution_count": null,
   "metadata": {},
   "outputs": [],
   "source": []
  },
  {
   "cell_type": "code",
   "execution_count": null,
   "metadata": {},
   "outputs": [],
   "source": []
  },
  {
   "cell_type": "code",
   "execution_count": null,
   "metadata": {},
   "outputs": [],
   "source": []
  }
 ],
 "metadata": {
  "kernelspec": {
   "display_name": "Python 3",
   "language": "python",
   "name": "python3"
  },
  "language_info": {
   "codemirror_mode": {
    "name": "ipython",
    "version": 3
   },
   "file_extension": ".py",
   "mimetype": "text/x-python",
   "name": "python",
   "nbconvert_exporter": "python",
   "pygments_lexer": "ipython3",
   "version": "3.7.1"
  }
 },
 "nbformat": 4,
 "nbformat_minor": 2
}
