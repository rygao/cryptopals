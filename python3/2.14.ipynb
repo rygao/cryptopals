{
 "cells": [
  {
   "cell_type": "markdown",
   "metadata": {},
   "source": [
    "# Byte-at-a-time ECB decryption (Harder)\n",
    "Take your oracle function from #12. Now generate a random count of random bytes and prepend this string to every plaintext. You are now doing:\n",
    "\n",
    "```\n",
    "AES-128-ECB(random-prefix || attacker-controlled || target-bytes, random-key)\n",
    "```\n",
    "\n",
    "Same goal: decrypt the target-bytes.\n",
    "\n",
    "### Stop and think for a second.\n",
    "> What's harder than challenge #12 about doing this? How would you overcome that obstacle? The hint is: you're using all the tools you already have; no crazy math is required.\n",
    ">\n",
    "> Think \"STIMULUS\" and \"RESPONSE\".\n"
   ]
  },
  {
   "cell_type": "code",
   "execution_count": 1,
   "metadata": {},
   "outputs": [],
   "source": [
    "from importlib import reload\n",
    "import cryptopals\n",
    "reload(cryptopals)\n",
    "from cryptopals import *"
   ]
  },
  {
   "cell_type": "code",
   "execution_count": 229,
   "metadata": {},
   "outputs": [],
   "source": [
    "def prepending_ECB_oracle(plaintext, prefix, key):\n",
    "    '''Oracle that appends a mystery string to the plaintext input before encrypting via ECB.'''\n",
    "    unknown_string = base64_to_bytes('Um9sbGluJyBpbiBteSA1LjAKV2l0aCBteSByYWctdG9wIGRvd24gc28gbXkgaGFpciBjYW4gYmxvdwpUaGUgZ2lybGllcyBvbiBzdGFuZGJ5IHdhdmluZyBqdXN0IHRvIHNheSBoaQpEaWQgeW91IHN0b3A/IE5vLCBJIGp1c3QgZHJvdmUgYnkK')\n",
    "    plaintext = pad_pkcs7(prefix + to_bytes(plaintext) + unknown_string)\n",
    "    \n",
    "    return AES.new(key, AES.MODE_ECB).encrypt(plaintext)\n",
    "\n",
    "def find_unknown_string_from_prepending_oracle():\n",
    "    # generate consistent but unknown prefix\n",
    "    consistent_random_prefix = generate_random_bytes(np.random.randint(AES.block_size*10)+1)\n",
    "    # generate consistent but unknown key\n",
    "    consistent_unknown_key = generate_random_bytes()\n",
    "    \n",
    "    def oracle(plaintext):\n",
    "        return prepending_ECB_oracle(plaintext, consistent_random_prefix, consistent_unknown_key)\n",
    "    \n",
    "    # find prefix length\n",
    "    start_buffer_len = 0\n",
    "    while True:\n",
    "        ct = oracle(chr(0)*start_buffer_len)\n",
    "        blocks = [ct[i*AES.block_size : (i+1)*AES.block_size] for i in range(len(ct) // AES.block_size)]\n",
    "        \n",
    "        if max(Counter(blocks).values()) == 2:\n",
    "            break\n",
    "        \n",
    "        start_buffer_len += 1\n",
    "\n",
    "    # find unknown message, one byte at a time\n",
    "    start_idx = ct.find(Counter(blocks).most_common(1)[0][0]) + AES.block_size*2\n",
    "    hidden_string = b''\n",
    "    \n",
    "    while True:\n",
    "        idx_next_letter = len(hidden_string) + start_idx\n",
    "        idx_start_of_block = idx_next_letter - idx_next_letter%AES.block_size\n",
    "        short_pt = chr(0)*(AES.block_size-1-idx_next_letter%AES.block_size)\n",
    "        \n",
    "        ct_block_to_char_map = {}\n",
    "        for i in range(256):\n",
    "            # note that chr(128)..chr(255) do not properly convert to bytes via .encode()\n",
    "            pt = (chr(0)*start_buffer_len + short_pt).encode() + hidden_string + bytes([i])\n",
    "            ct = oracle(pt)\n",
    "            unknown_block = ct[idx_start_of_block:idx_start_of_block+AES.block_size]\n",
    "            ct_block_to_char_map[unknown_block] = bytes([i])\n",
    "\n",
    "        ct = oracle(chr(0)*start_buffer_len + short_pt)\n",
    "        unknown_block = ct[idx_start_of_block:idx_start_of_block+AES.block_size]\n",
    "        if unknown_block not in ct_block_to_char_map:\n",
    "            # signals end of message because padding bytes don't match any possible\n",
    "            return hidden_string[:-1].decode()\n",
    "        hidden_string += ct_block_to_char_map[unknown_block]\n",
    "        "
   ]
  },
  {
   "cell_type": "code",
   "execution_count": null,
   "metadata": {},
   "outputs": [],
   "source": []
  },
  {
   "cell_type": "code",
   "execution_count": null,
   "metadata": {},
   "outputs": [],
   "source": []
  },
  {
   "cell_type": "code",
   "execution_count": null,
   "metadata": {},
   "outputs": [],
   "source": []
  },
  {
   "cell_type": "code",
   "execution_count": 24,
   "metadata": {},
   "outputs": [],
   "source": [
    "consistent_random_prefix = generate_random_bytes(np.random.randint(AES.block_size*10)+1)"
   ]
  },
  {
   "cell_type": "code",
   "execution_count": 7,
   "metadata": {},
   "outputs": [],
   "source": [
    "consistent_unknown_key = generate_random_bytes()"
   ]
  },
  {
   "cell_type": "code",
   "execution_count": 197,
   "metadata": {},
   "outputs": [
    {
     "name": "stdout",
     "output_type": "stream",
     "text": [
      "47\n"
     ]
    }
   ],
   "source": [
    "for i in range(10000):\n",
    "    pt = chr(0)*i\n",
    "    ct = prepending_ECB_oracle(pt, consistent_random_prefix, consistent_unknown_key)\n",
    "    blocks = [ct[i*AES.block_size : (i+1)*AES.block_size] for i in range(len(ct) // AES.block_size)]\n",
    "    \n",
    "    if max(Counter(blocks).values()) == 2:\n",
    "        break\n",
    "        \n",
    "start_buffer_len = i\n",
    "print(start_buffer_len)"
   ]
  },
  {
   "cell_type": "code",
   "execution_count": 198,
   "metadata": {},
   "outputs": [],
   "source": [
    "start_idx = ct.find(Counter(blocks).most_common(1)[0][0]) + AES.block_size*2\n",
    "hidden_string = b''"
   ]
  },
  {
   "cell_type": "code",
   "execution_count": 199,
   "metadata": {},
   "outputs": [
    {
     "data": {
      "text/plain": [
       "b'7\\xe8\\x90\\x1c\\x81\\xcc=\\xea\\xf7u\\x96\\xc3\\xbf\\x1d\\xc9\\t'"
      ]
     },
     "execution_count": 199,
     "metadata": {},
     "output_type": "execute_result"
    }
   ],
   "source": [
    "Counter(blocks).most_common(1)[0][0]"
   ]
  },
  {
   "cell_type": "code",
   "execution_count": 200,
   "metadata": {},
   "outputs": [
    {
     "data": {
      "text/plain": [
       "(b'\\xc97\\x82\\x84\\xfb\\x94\\xc7k\\x97C\\xe1O\\xc0\\x0e\\xf6\\x17\\x1b\\xafG\\xa1\\xbeN\\x88\\xb0\\x1bt}\\x16\\xb1p\\xd1p\\xdcB;\\xe8P\\xbe\\xd5\\xbd\\x99qrQ\\xf4\\r\\xce\\x93\\xa4\\xbc\\x0f\\x98\\xc46\\x1f0V\\x008\\r\\xd8/\\xfe\\xb1\\x82\\xe2OC\\xb0\\xbb\\xbd\\x8ca\\xb8\\x8c(RID<7\\xe8\\x90\\x1c\\x81\\xcc=\\xea\\xf7u\\x96\\xc3\\xbf\\x1d\\xc9\\t7\\xe8\\x90\\x1c\\x81\\xcc=\\xea\\xf7u\\x96\\xc3\\xbf\\x1d\\xc9\\t',\n",
       " b'\\xca\\x98{G%\\xad\\x16\\x0e\\x81))\\xdc\\xae\\xdaSUo\\xe4&\\x1dfl\\xb8\\t\\xb5\\x87\\x88D\\xfb\\xacw\\x98\\x08\\xbe\\xc4\\tK\\xe7X\\xae!c#\\xf5U\\x055\\x95\\xb6)\\xdcf\\xb1\\x16\\xd9\\x86[\\xb6\\x19H\\xe8\\xf1\"\\xa0\\xc8\\xe1\\xa6b\\x13f\\x05\\xc1j\\xee!%\\xb4\\xbc\\x0c\\x81\\xa8\\xbf\\x82B\\xdd^t\\xfelS\\x8d\\x02\\x1b\\xb1\\xf0\\xd0\\xae\\xd1\\xf2\\x80\\x02\\x8f\"\\xac\\xb7\\xddE\\x7fpX\\xdb\\x82\\x97\\xba\\x17\\x80|\\xbb\\x8f\\xa8\\xa9\\xda:\\xef\\x07c\\x82\\x94\\x17)g\\x88@]2\\xe7\\xeb\\xbe\\xb1\\xf0\\xc9y\\xdeT')"
      ]
     },
     "execution_count": 200,
     "metadata": {},
     "output_type": "execute_result"
    }
   ],
   "source": [
    "ct[:start_idx], ct[start_idx:]"
   ]
  },
  {
   "cell_type": "code",
   "execution_count": null,
   "metadata": {},
   "outputs": [],
   "source": []
  },
  {
   "cell_type": "code",
   "execution_count": null,
   "metadata": {},
   "outputs": [],
   "source": []
  },
  {
   "cell_type": "code",
   "execution_count": 217,
   "metadata": {},
   "outputs": [],
   "source": [
    "idx_next_letter = len(hidden_string) + start_idx\n",
    "idx_start_of_block = idx_next_letter - idx_next_letter%AES.block_size\n",
    "short_pt = chr(0)*(AES.block_size-1-idx_next_letter%AES.block_size)"
   ]
  },
  {
   "cell_type": "code",
   "execution_count": 218,
   "metadata": {},
   "outputs": [],
   "source": [
    "ct_block_to_char_map = {}\n",
    "for i in range(256):\n",
    "    # note that chr(128)..chr(255) do not properly convert to bytes via .encode()\n",
    "    pt = (chr(0)*start_buffer_len + short_pt).encode() + hidden_string + bytes([i])\n",
    "    ct = prepending_ECB_oracle(pt, consistent_random_prefix, consistent_unknown_key)\n",
    "    unknown_block = ct[idx_start_of_block:idx_start_of_block+AES.block_size]\n",
    "    ct_block_to_char_map[unknown_block] = bytes([i])\n",
    "#     print(unknown_block, bytes([i]))"
   ]
  },
  {
   "cell_type": "code",
   "execution_count": 219,
   "metadata": {},
   "outputs": [
    {
     "name": "stdout",
     "output_type": "stream",
     "text": [
      "b'Roll'\n"
     ]
    }
   ],
   "source": [
    "ct = prepending_ECB_oracle(chr(0)*start_buffer_len + short_pt, consistent_random_prefix, consistent_unknown_key)\n",
    "unknown_block = ct[idx_start_of_block:idx_start_of_block+AES.block_size]\n",
    "if unknown_block not in ct_block_to_char_map:\n",
    "    # signals end of message because padding bytes don't match any possible\n",
    "    print('No soln')\n",
    "hidden_string += ct_block_to_char_map[unknown_block]\n",
    "print(hidden_string)"
   ]
  },
  {
   "cell_type": "code",
   "execution_count": null,
   "metadata": {},
   "outputs": [],
   "source": []
  },
  {
   "cell_type": "code",
   "execution_count": null,
   "metadata": {},
   "outputs": [],
   "source": []
  },
  {
   "cell_type": "code",
   "execution_count": 230,
   "metadata": {},
   "outputs": [
    {
     "name": "stdout",
     "output_type": "stream",
     "text": [
      "Rollin' in my 5.0\n",
      "With my rag-top down so my hair can blow\n",
      "The girlies on standby waving just to say hi\n",
      "Did you stop? No, I just drove by\n",
      "\n",
      "CPU times: user 423 ms, sys: 4.72 ms, total: 428 ms\n",
      "Wall time: 435 ms\n"
     ]
    }
   ],
   "source": [
    "%%time\n",
    "print(find_unknown_string_from_prepending_oracle())"
   ]
  },
  {
   "cell_type": "code",
   "execution_count": null,
   "metadata": {},
   "outputs": [],
   "source": []
  }
 ],
 "metadata": {
  "kernelspec": {
   "display_name": "Python 3",
   "language": "python",
   "name": "python3"
  },
  "language_info": {
   "codemirror_mode": {
    "name": "ipython",
    "version": 3
   },
   "file_extension": ".py",
   "mimetype": "text/x-python",
   "name": "python",
   "nbconvert_exporter": "python",
   "pygments_lexer": "ipython3",
   "version": "3.7.1"
  }
 },
 "nbformat": 4,
 "nbformat_minor": 2
}
