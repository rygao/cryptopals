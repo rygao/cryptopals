{
 "cells": [
  {
   "cell_type": "markdown",
   "metadata": {},
   "source": [
    "# ECB cut-and-paste\n",
    "Write a k=v parsing routine, as if for a structured cookie. The routine should take:\n",
    "\n",
    "```\n",
    "foo=bar&baz=qux&zap=zazzle\n",
    "```\n",
    "... and produce:\n",
    "```\n",
    "{\n",
    "  foo: 'bar',\n",
    "  baz: 'qux',\n",
    "  zap: 'zazzle'\n",
    "}\n",
    "```\n",
    "(you know, the object; I don't care if you convert it to JSON).\n",
    "\n",
    "Now write a function that encodes a user profile in that format, given an email address. You should have something like:\n",
    "```\n",
    "profile_for(\"foo@bar.com\")\n",
    "```\n",
    "... and it should produce:\n",
    "```\n",
    "{\n",
    "  email: 'foo@bar.com',\n",
    "  uid: 10,\n",
    "  role: 'user'\n",
    "}\n",
    "```\n",
    "... encoded as:\n",
    "```\n",
    "email=foo@bar.com&uid=10&role=user\n",
    "```\n",
    "Your \"profile_for\" function should not allow encoding metacharacters (& and =). Eat them, quote them, whatever you want to do, but don't let people set their email address to \"foo@bar.com&role=admin\".\n",
    "\n",
    "Now, two more easy functions. Generate a random AES key, then:\n",
    "\n",
    "1. Encrypt the encoded user profile under the key; \"provide\" that to the \"attacker\".\n",
    "1. Decrypt the encoded user profile and parse it.\n",
    "\n",
    "Using only the user input to profile_for() (as an oracle to generate \"valid\" ciphertexts) and the ciphertexts themselves, make a role=admin profile."
   ]
  },
  {
   "cell_type": "code",
   "execution_count": 2,
   "metadata": {
    "collapsed": true
   },
   "outputs": [],
   "source": [
    "from importlib import reload\n",
    "import cryptopals\n",
    "reload(cryptopals)\n",
    "from cryptopals import *"
   ]
  },
  {
   "cell_type": "code",
   "execution_count": 48,
   "metadata": {
    "collapsed": true
   },
   "outputs": [],
   "source": [
    "def kv_parser(s):\n",
    "    return {i[:i.find('=')] : i[i.find('=')+1:] for i in s.strip().split('&') if i.find('=') > 0}\n",
    "\n",
    "import uuid\n",
    "def profile_for(useremail):\n",
    "    return f'email={useremail.replace(\"&\", \"\").replace(\"=\", \"\")}&uid={uuid.uuid4()}&role=user'\n",
    "\n",
    "def unpad_pkcs7(b, block_size=16):\n",
    "    '''Unpad a bytearray or string using the PKCS #7 scheme.'''\n",
    "    last_byte = ord(to_bytes(b[-1:]))\n",
    "    return b[:-last_byte]\n",
    "\n",
    "def encrypt_user_profile(useremail, key):\n",
    "    return encrypt_AES_128_ECB(profile_for(useremail), key)\n",
    "\n",
    "def decrypt_user_profile(ciphertext, key):\n",
    "    return kv_parser(unpad_pkcs7(decrypt_AES_128_ECB(ciphertext, key)))\n",
    "\n",
    "def construct_admin_ciphertext():\n",
    "    def oracle(useremail):\n",
    "        return encrypt_user_profile(useremail, consistent_unknown_key)\n",
    "\n",
    "    # probe for last block containing 'admin' and padding\n",
    "    probe_email = (AES.block_size - len('email=')) * chr(0) + pad_pkcs7('admin').decode()\n",
    "    admin_last_block = oracle(probe_email)[AES.block_size : 2*AES.block_size]\n",
    "\n",
    "    # probe block length\n",
    "    malicious_email = 'm@licio.us'\n",
    "    base_len = len(oracle(malicious_email))\n",
    "    while True:\n",
    "        malicious_email = 'x'+malicious_email\n",
    "        if len(oracle(malicious_email)) > base_len:\n",
    "            break\n",
    "    malicious_email = 'x'*len('user') + malicious_email\n",
    "\n",
    "    # copy-and-paste admin block\n",
    "    ct = oracle(malicious_email)\n",
    "    malicious_ct = ct[:-16] + admin_last_block\n",
    "\n",
    "    return malicious_ct"
   ]
  },
  {
   "cell_type": "code",
   "execution_count": 4,
   "metadata": {},
   "outputs": [
    {
     "data": {
      "text/plain": [
       "{'foo': 'bar', 'baz': 'qux', 'zap': 'zazzle'}"
      ]
     },
     "execution_count": 4,
     "metadata": {},
     "output_type": "execute_result"
    }
   ],
   "source": [
    "kv_parser('foo=bar&baz=qux&zap=zazzle')"
   ]
  },
  {
   "cell_type": "code",
   "execution_count": null,
   "metadata": {},
   "outputs": [],
   "source": []
  },
  {
   "cell_type": "code",
   "execution_count": 50,
   "metadata": {},
   "outputs": [],
   "source": [
    "import uuid\n",
    "def profile_for(useremail):\n",
    "    return f'email={useremail.replace(\"&\", \"\").replace(\"=\", \"\")}&uid={uuid.uuid4()}&role=user'\n",
    "#     return f'email={useremail.replace(\"&\", \"\").replace(\"=\", \"\")}&uid=10&role=user'"
   ]
  },
  {
   "cell_type": "code",
   "execution_count": 51,
   "metadata": {},
   "outputs": [
    {
     "data": {
      "text/plain": [
       "'email=foo@bar.com&uid=ad09d424-ac2b-4130-a12a-ebb7fb5c4136&role=user'"
      ]
     },
     "execution_count": 51,
     "metadata": {},
     "output_type": "execute_result"
    }
   ],
   "source": [
    "profile_for(\"foo@bar.com\")"
   ]
  },
  {
   "cell_type": "code",
   "execution_count": 52,
   "metadata": {},
   "outputs": [
    {
     "data": {
      "text/plain": [
       "'email=foo@bar.comroleadmin&uid=733745d0-7ce1-48bb-a401-d8a4e5c786ff&role=user'"
      ]
     },
     "execution_count": 52,
     "metadata": {},
     "output_type": "execute_result"
    }
   ],
   "source": [
    "profile_for(\"foo@bar.com&role=admin\")"
   ]
  },
  {
   "cell_type": "code",
   "execution_count": null,
   "metadata": {},
   "outputs": [],
   "source": []
  },
  {
   "cell_type": "code",
   "execution_count": 7,
   "metadata": {},
   "outputs": [
    {
     "name": "stdout",
     "output_type": "stream",
     "text": [
      "b'Yellow Submarine\\x10\\x10\\x10\\x10\\x10\\x10\\x10\\x10\\x10\\x10\\x10\\x10\\x10\\x10\\x10\\x10' b'Yellow Submarine'\n",
      "b'Yellow Submarine!!\\x0e\\x0e\\x0e\\x0e\\x0e\\x0e\\x0e\\x0e\\x0e\\x0e\\x0e\\x0e\\x0e\\x0e' b'Yellow Submarine!!'\n"
     ]
    }
   ],
   "source": [
    "print(pad_pkcs7('Yellow Submarine'), unpad_pkcs7(pad_pkcs7('Yellow Submarine')))\n",
    "print(pad_pkcs7('Yellow Submarine!!'), unpad_pkcs7(pad_pkcs7('Yellow Submarine!!')))"
   ]
  },
  {
   "cell_type": "code",
   "execution_count": null,
   "metadata": {},
   "outputs": [],
   "source": []
  },
  {
   "cell_type": "code",
   "execution_count": 8,
   "metadata": {},
   "outputs": [
    {
     "name": "stdout",
     "output_type": "stream",
     "text": [
      "Ciphertext: b'q\\x8c\\x00\\xb93\\rP\\x8c\\xb8\\xcf\\x8c\\xb9y$\\xc1\\x9c\\x83e\\xdfv\\x97UX\\xff\\xaa\\xac\\x03F+\\x87\\x07\\x16\\x9c\\x06M\\xe9\\xfe\\x9a8e(\\x1a6\\xc4\\x8fr(\\x03'\n",
      "Decrypted profile: {'email': 'foo@bar.com', 'uid': '10', 'role': 'user'}\n"
     ]
    }
   ],
   "source": [
    "consistent_unknown_key = generate_random_bytes()\n",
    "ct = encrypt_user_profile('foo@bar.com', consistent_unknown_key)\n",
    "print('Ciphertext:', ct)\n",
    "p = decrypt_user_profile(ct, consistent_unknown_key)\n",
    "print('Decrypted profile:', p)"
   ]
  },
  {
   "cell_type": "code",
   "execution_count": null,
   "metadata": {},
   "outputs": [],
   "source": []
  },
  {
   "cell_type": "code",
   "execution_count": null,
   "metadata": {},
   "outputs": [],
   "source": []
  },
  {
   "cell_type": "code",
   "execution_count": 47,
   "metadata": {},
   "outputs": [
    {
     "name": "stdout",
     "output_type": "stream",
     "text": [
      "xxxxxxxxxxxxxxxxxxxm@licio.us\n",
      "b'RX\\x8a\"GuO}\\xc9lf*\\t\\xb4w\\x95\\xbe~\\x8e\\x88\\xf7w\\xc29\\xfa\\xc0\\xac\\x95J\\ng\\xc3\\x84\\xacr\\xf3\\'\\xe6n\\xd7\\xd8zV\\x8f\\xe7\\xc9\\xd4<j\\xda\\x07\\x0e+\\xdb\\xfff\\x83B\\x9a?v0\\xb5\\xaa'\n",
      "{'email': 'xxxxxxxxxxxxxxxxxxxm@licio.us', 'uid': '10', 'role': 'admin'}\n"
     ]
    }
   ],
   "source": [
    "def oracle(useremail):\n",
    "    return encrypt_user_profile(useremail, consistent_unknown_key)\n",
    "    \n",
    "# probe for last block containing 'admin' and padding\n",
    "probe_email = (AES.block_size - len('email=')) * chr(0) + pad_pkcs7('admin').decode()\n",
    "admin_last_block = oracle(probe_email)[AES.block_size : 2*AES.block_size]\n",
    "\n",
    "# probe block length\n",
    "malicious_email = 'm@licio.us'\n",
    "base_len = len(oracle(malicious_email))\n",
    "while True:\n",
    "    malicious_email = 'x'+malicious_email\n",
    "    if len(oracle(malicious_email)) > base_len:\n",
    "        break\n",
    "malicious_email = 'x'*len('user') + malicious_email\n",
    "\n",
    "# copy-and-paste admin block\n",
    "ct = oracle(malicious_email)\n",
    "malicious_ct = ct[:-16] + admin_last_block\n",
    "\n",
    "print(malicious_email)\n",
    "print(malicious_ct)\n",
    "print(decrypt_user_profile(malicious_ct, consistent_unknown_key))"
   ]
  },
  {
   "cell_type": "code",
   "execution_count": null,
   "metadata": {},
   "outputs": [],
   "source": []
  },
  {
   "cell_type": "code",
   "execution_count": 53,
   "metadata": {},
   "outputs": [
    {
     "data": {
      "text/plain": [
       "{'email': 'xxxxxxxxxxxxxxxxxm@licio.us',\n",
       " 'uid': '63da1f76-1c94-4cb6-8c54-e8d715b92b35',\n",
       " 'role': 'admin'}"
      ]
     },
     "execution_count": 53,
     "metadata": {},
     "output_type": "execute_result"
    }
   ],
   "source": [
    "decrypt_user_profile(construct_admin_ciphertext(), consistent_unknown_key)"
   ]
  },
  {
   "cell_type": "code",
   "execution_count": null,
   "metadata": {},
   "outputs": [],
   "source": []
  }
 ],
 "metadata": {
  "kernelspec": {
   "display_name": "Python 3",
   "language": "python",
   "name": "python3"
  },
  "language_info": {
   "codemirror_mode": {
    "name": "ipython",
    "version": 3
   },
   "file_extension": ".py",
   "mimetype": "text/x-python",
   "name": "python",
   "nbconvert_exporter": "python",
   "pygments_lexer": "ipython3",
   "version": "3.7.1"
  }
 },
 "nbformat": 4,
 "nbformat_minor": 2
}
