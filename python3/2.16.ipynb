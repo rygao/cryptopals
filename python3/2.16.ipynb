{
 "cells": [
  {
   "cell_type": "markdown",
   "metadata": {},
   "source": [
    "# CBC bitflipping attacks\n",
    "Generate a random AES key.\n",
    "\n",
    "Combine your padding code and CBC code to write two functions.\n",
    "\n",
    "The first function should take an arbitrary input string, prepend the string:\n",
    "```\n",
    "\"comment1=cooking%20MCs;userdata=\"\n",
    "```\n",
    ".. and append the string:\n",
    "```\n",
    "\";comment2=%20like%20a%20pound%20of%20bacon\"\n",
    "```\n",
    "The function should quote out the \";\" and \"=\" characters.\n",
    "\n",
    "The function should then pad out the input to the 16-byte AES block length and encrypt it under the random AES key.\n",
    "\n",
    "The second function should decrypt the string and look for the characters \";admin=true;\" (or, equivalently, decrypt, split the string on \";\", convert each resulting string into 2-tuples, and look for the \"admin\" tuple).\n",
    "\n",
    "Return true or false based on whether the string exists.\n",
    "\n",
    "If you've written the first function properly, it should not be possible to provide user input to it that will generate the string the second function is looking for. We'll have to break the crypto to do that.\n",
    "\n",
    "Instead, modify the ciphertext (without knowledge of the AES key) to accomplish this.\n",
    "\n",
    "You're relying on the fact that in CBC mode, a 1-bit error in a ciphertext block:\n",
    "\n",
    "- Completely scrambles the block the error occurs in\n",
    "- Produces the identical 1-bit error(/edit) in the next ciphertext block.\n",
    "\n",
    "### Stop and think for a second.\n",
    ">Before you implement this attack, answer this question: why does CBC mode have this property?"
   ]
  },
  {
   "cell_type": "code",
   "execution_count": 1,
   "metadata": {},
   "outputs": [],
   "source": [
    "from importlib import reload\n",
    "import cryptopals\n",
    "reload(cryptopals)\n",
    "from cryptopals import *"
   ]
  },
  {
   "cell_type": "code",
   "execution_count": null,
   "metadata": {},
   "outputs": [],
   "source": []
  }
 ],
 "metadata": {
  "kernelspec": {
   "display_name": "Python 3",
   "language": "python",
   "name": "python3"
  },
  "language_info": {
   "codemirror_mode": {
    "name": "ipython",
    "version": 3
   },
   "file_extension": ".py",
   "mimetype": "text/x-python",
   "name": "python",
   "nbconvert_exporter": "python",
   "pygments_lexer": "ipython3",
   "version": "3.7.1"
  }
 },
 "nbformat": 4,
 "nbformat_minor": 2
}
