{
 "cells": [
  {
   "cell_type": "markdown",
   "metadata": {},
   "source": [
    "# Break repeating-key XOR\n",
    "### It is officially on, now.\n",
    "> This challenge isn't conceptually hard, but it involves actual error-prone coding. The other challenges in this set are there to bring you up to speed. This one is there to qualify you. If you can do this one, you're probably just fine up to Set 6.\n",
    "\n",
    "There's a file here. It's been base64'd after being encrypted with repeating-key XOR.\n",
    "\n",
    "Decrypt it.\n",
    "\n",
    "Here's how:\n",
    "\n",
    "1. Let KEYSIZE be the guessed length of the key; try values from 2 to (say) 40.\n",
    "2. Write a function to compute the edit distance/Hamming distance between two strings. The Hamming distance is just the number of differing bits. The distance between:\n",
    "```\n",
    "this is a test\n",
    "```\n",
    "and\n",
    "```\n",
    "wokka wokka!!!\n",
    "```\n",
    "is 37. Make sure your code agrees before you proceed.\n",
    "3. For each KEYSIZE, take the first KEYSIZE worth of bytes, and the second KEYSIZE worth of bytes, and find the edit distance between them. Normalize this result by dividing by KEYSIZE.\n",
    "4. The KEYSIZE with the smallest normalized edit distance is probably the key. You could proceed perhaps with the smallest 2-3 KEYSIZE values. Or take 4 KEYSIZE blocks instead of 2 and average the distances.\n",
    "5. Now that you probably know the KEYSIZE: break the ciphertext into blocks of KEYSIZE length.\n",
    "6. Now transpose the blocks: make a block that is the first byte of every block, and a block that is the second byte of every block, and so on.\n",
    "7. Solve each block as if it was single-character XOR. You already have code to do this.\n",
    "8. For each block, the single-byte XOR key that produces the best looking histogram is the repeating-key XOR key byte for that block. Put them together and you have the key.\n",
    "\n",
    "This code is going to turn out to be surprisingly useful later on. Breaking repeating-key XOR (\"Vigenere\") statistically is obviously an academic exercise, a \"Crypto 101\" thing. But more people \"know how\" to break it than can actually break it, and a similar technique breaks something much more important.\n",
    "\n",
    "### No, that's not a mistake.\n",
    "> We get more tech support questions for this challenge than any of the other ones. We promise, there aren't any blatant errors in this text. In particular: the \"wokka wokka!!!\" edit distance really is 37."
   ]
  },
  {
   "cell_type": "code",
   "execution_count": 1,
   "metadata": {},
   "outputs": [],
   "source": [
    "from cryptopals import *"
   ]
  },
  {
   "cell_type": "code",
   "execution_count": 2,
   "metadata": {
    "collapsed": true
   },
   "outputs": [],
   "source": [
    "def hamming_distance(b1, b2):\n",
    "    '''Finds the bit-wise edit distance / Hamming distance between two byte arrays'''\n",
    "    return sum(['{0:b}'.format(b).count('1') for b in fixed_xor(b1, b2)])\n",
    "\n",
    "def hamming_distance_str(s1, s2):\n",
    "    '''Finds the bit-wise edit distance / Hamming distance between two ascii-encoded strings'''\n",
    "    return hamming_distance(s1.encode(), s2.encode())\n",
    "\n",
    "def base64_to_bytes(s):\n",
    "    '''Converts base64-encoded string to byte array'''\n",
    "    return base64.b64decode(s)"
   ]
  },
  {
   "cell_type": "code",
   "execution_count": null,
   "metadata": {
    "collapsed": true
   },
   "outputs": [],
   "source": []
  },
  {
   "cell_type": "code",
   "execution_count": 3,
   "metadata": {
    "collapsed": true
   },
   "outputs": [],
   "source": [
    "t1 = 'this is a test'\n",
    "t2 = 'wokka wokka!!!'"
   ]
  },
  {
   "cell_type": "code",
   "execution_count": 4,
   "metadata": {},
   "outputs": [
    {
     "data": {
      "text/plain": [
       "b'\\x03\\x07\\x02\\x18AI\\x04O\\nK\\x15DRU'"
      ]
     },
     "execution_count": 4,
     "metadata": {},
     "output_type": "execute_result"
    }
   ],
   "source": [
    "fixed_xor(t1.encode(), t2.encode())"
   ]
  },
  {
   "cell_type": "code",
   "execution_count": 5,
   "metadata": {},
   "outputs": [
    {
     "data": {
      "text/plain": [
       "37"
      ]
     },
     "execution_count": 5,
     "metadata": {},
     "output_type": "execute_result"
    }
   ],
   "source": [
    "sum([sum(map(lambda c: c=='1', '{0:b}'.format(b))) for b in fixed_xor(t1.encode(), t2.encode())])"
   ]
  },
  {
   "cell_type": "code",
   "execution_count": 6,
   "metadata": {},
   "outputs": [
    {
     "data": {
      "text/plain": [
       "[True, False, False, True, False, False, True]"
      ]
     },
     "execution_count": 6,
     "metadata": {},
     "output_type": "execute_result"
    }
   ],
   "source": [
    "list(map(lambda c: c=='1', '{0:b}'.format(73)))"
   ]
  },
  {
   "cell_type": "code",
   "execution_count": 7,
   "metadata": {},
   "outputs": [
    {
     "data": {
      "text/plain": [
       "37"
      ]
     },
     "execution_count": 7,
     "metadata": {},
     "output_type": "execute_result"
    }
   ],
   "source": [
    "hamming_distance_str(t1, t2)"
   ]
  },
  {
   "cell_type": "code",
   "execution_count": null,
   "metadata": {
    "collapsed": true
   },
   "outputs": [],
   "source": []
  },
  {
   "cell_type": "code",
   "execution_count": 8,
   "metadata": {},
   "outputs": [],
   "source": [
    "ct = ''\n",
    "with open('../Data/6.txt') as f:\n",
    "    for row in f:\n",
    "        ct += row.strip()"
   ]
  },
  {
   "cell_type": "code",
   "execution_count": 9,
   "metadata": {},
   "outputs": [],
   "source": [
    "b = base64_to_bytes(ct)"
   ]
  },
  {
   "cell_type": "code",
   "execution_count": null,
   "metadata": {
    "collapsed": true
   },
   "outputs": [],
   "source": []
  },
  {
   "cell_type": "code",
   "execution_count": null,
   "metadata": {
    "collapsed": true
   },
   "outputs": [],
   "source": []
  },
  {
   "cell_type": "code",
   "execution_count": 10,
   "metadata": {},
   "outputs": [],
   "source": [
    "%matplotlib inline\n",
    "import matplotlib.pyplot as plt"
   ]
  },
  {
   "cell_type": "code",
   "execution_count": 20,
   "metadata": {},
   "outputs": [],
   "source": [
    "def find_keysize_distances(bs, keysizes):\n",
    "    '''Returns the average Hamming distance for a given keysize'''\n",
    "    return [np.mean([hamming_distance(bs[i*keysize:(i+1)*keysize],\n",
    "                                      bs[(i+1)*keysize:(i+2)*keysize]) // keysize\n",
    "                     for i in range(len(bs)//keysize - 1)])\n",
    "            for keysize in keysizes]"
   ]
  },
  {
   "cell_type": "code",
   "execution_count": 21,
   "metadata": {},
   "outputs": [
    {
     "data": {
      "image/png": "[encoded data removed]",
      "text/plain": [
       "<Figure size 432x288 with 1 Axes>"
      ]
     },
     "metadata": {
      "needs_background": "light"
     },
     "output_type": "display_data"
    },
    {
     "name": "stdout",
     "output_type": "stream",
     "text": [
      "CPU times: user 455 ms, sys: 8.07 ms, total: 463 ms\n",
      "Wall time: 491 ms\n"
     ]
    }
   ],
   "source": [
    "%%time\n",
    "plt.plot(range(1,151), find_keysize_distances(b, range(1,151)), 'b.')\n",
    "plt.grid()\n",
    "plt.show()"
   ]
  },
  {
   "cell_type": "code",
   "execution_count": 22,
   "metadata": {},
   "outputs": [],
   "source": [
    "def decrypt_vigenere_with_known_keysize(ciphertext, keysize):\n",
    "    '''Returns the most likely key and plaintext message, given a bytearray ciphertext and known keysize'''\n",
    "    keys, plaintexts = zip(*[decrypt_single_byte_xor(ciphertext[block::keysize]) for block in range(keysize)])\n",
    "    return bytes(keys).decode(), bytes(sum(zip(*plaintexts), ())).decode()"
   ]
  },
  {
   "cell_type": "code",
   "execution_count": 23,
   "metadata": {
    "collapsed": true
   },
   "outputs": [],
   "source": [
    "def decrypt_vigenere(ciphertext, keysizes):\n",
    "    '''Returns the most likely key and plaintext message, given a bytearray ciphertext and list of possible keysizes'''\n",
    "    optimal_keysize = keysizes[np.argmin(find_keysize_distances(ciphertext, keysizes))]\n",
    "    return decrypt_vigenere_with_known_keysize(ciphertext, optimal_keysize)"
   ]
  },
  {
   "cell_type": "code",
   "execution_count": 26,
   "metadata": {},
   "outputs": [
    {
     "name": "stdout",
     "output_type": "stream",
     "text": [
      "Key: Terminator X: Bring the noise\n",
      "\n",
      "Plaintext: I'm back and I'm ringin' the bell \n",
      "A rockin' on the mike while the fly girls yell \n",
      "In ecstasy in the back of me \n",
      "Well that's my DJ Deshay cuttin' all them Z's \n",
      "Hittin' hard and the girlies goin' crazy \n",
      "Vanilla's on the mike, man I'm not lazy. \n",
      "\n",
      "I'm lettin' my drug kick in \n",
      "It controls my mouth and I begin \n",
      "To just let it flow, let my concepts go \n",
      "My posse's to the side yellin', Go Vanilla Go! \n",
      "\n",
      "Smooth 'cause that's the way I will be \n",
      "And if you don't give a damn, then \n",
      "Why you starin' at me \n",
      "So get off 'cause I control the stage \n",
      "There's no dissin' allowed \n",
      "I'm in my own phase \n",
      "The girlies sa y they love me and that is ok \n",
      "And I can dance better than any kid n' play \n",
      "\n",
      "Stage 2 -- Yea the one ya' wanna listen to \n",
      "It's off my head so let the beat play through \n",
      "So I can funk it up and make it sound good \n",
      "1-2-3 Yo -- Knock on some wood \n",
      "For good luck, I like my rhymes atrocious \n",
      "Supercalafragilisticexpialidocious \n",
      "I'm an effect and that you can bet \n",
      "I can take a fly girl and make her wet. \n",
      "\n",
      "I'm like Samson -- Samson to Delilah \n",
      "There's no denyin', You can try to hang \n",
      "But you'll keep tryin' to get my style \n",
      "Over and over, practice makes perfect \n",
      "But not if you're a loafer. \n",
      "\n",
      "You'll get nowhere, no place, no time, no girls \n",
      "Soon -- Oh my God, homebody, you probably eat \n",
      "Spaghetti with a spoon! Come on and say it! \n",
      "\n",
      "VIP. Vanilla Ice yep, yep, I'm comin' hard like a rhino \n",
      "Intoxicating so you stagger like a wino \n",
      "So punks stop trying and girl stop cryin' \n",
      "Vanilla Ice is sellin' and you people are buyin' \n",
      "'Cause why the freaks are jockin' like Crazy Glue \n",
      "Movin' and groovin' trying to sing along \n",
      "All through the ghetto groovin' this here song \n",
      "Now you're amazed by the VIP posse. \n",
      "\n",
      "Steppin' so hard like a German Nazi \n",
      "Startled by the bases hittin' ground \n",
      "There's no trippin' on mine, I'm just gettin' down \n",
      "Sparkamatic, I'm hangin' tight like a fanatic \n",
      "You trapped me once and I thought that \n",
      "You might have it \n",
      "So step down and lend me your ear \n",
      "'89 in my time! You, '90 is my year. \n",
      "\n",
      "You're weakenin' fast, YO! and I can tell it \n",
      "Your body's gettin' hot, so, so I can smell it \n",
      "So don't be mad and don't be sad \n",
      "'Cause the lyrics belong to ICE, You can call me Dad \n",
      "You're pitchin' a fit, so step back and endure \n",
      "Let the witch doctor, Ice, do the dance to cure \n",
      "So come up close and don't be square \n",
      "You wanna battle me -- Anytime, anywhere \n",
      "\n",
      "You thought that I was weak, Boy, you're dead wrong \n",
      "So come on, everybody and sing this song \n",
      "\n",
      "Say -- Play that funky music Say, go white boy, go white boy go \n",
      "play that funky music Go white boy, go white boy, go \n",
      "Lay down and boogie and play that funky music till you die. \n",
      "\n",
      "Play that funky music Come on, Come on, let me hear \n",
      "Play that funky music white boy you say it, say it \n",
      "Play that funky music A little louder now \n",
      "Play that funky music, white boy Come on, Come on, Come on \n",
      "Play that funky mu\n",
      "CPU times: user 668 ms, sys: 6.03 ms, total: 674 ms\n",
      "Wall time: 699 ms\n"
     ]
    }
   ],
   "source": [
    "%%time \n",
    "k, pt = decrypt_vigenere(b, list(range(2,41)))\n",
    "print('Key:', k)\n",
    "print()\n",
    "print('Plaintext:', pt)"
   ]
  },
  {
   "cell_type": "code",
   "execution_count": null,
   "metadata": {},
   "outputs": [],
   "source": []
  }
 ],
 "metadata": {
  "kernelspec": {
   "display_name": "Python 3",
   "language": "python",
   "name": "python3"
  },
  "language_info": {
   "codemirror_mode": {
    "name": "ipython",
    "version": 3
   },
   "file_extension": ".py",
   "mimetype": "text/x-python",
   "name": "python",
   "nbconvert_exporter": "python",
   "pygments_lexer": "ipython3",
   "version": "3.7.1"
  }
 },
 "nbformat": 4,
 "nbformat_minor": 2
}
