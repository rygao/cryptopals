{
 "cells": [
  {
   "cell_type": "markdown",
   "metadata": {},
   "source": [
    "# Implement CBC mode\n",
    "CBC mode is a block cipher mode that allows us to encrypt irregularly-sized messages, despite the fact that a block cipher natively only transforms individual blocks.\n",
    "\n",
    "In CBC mode, each ciphertext block is added to the next plaintext block before the next call to the cipher core.\n",
    "\n",
    "The first plaintext block, which has no associated previous ciphertext block, is added to a \"fake 0th ciphertext block\" called the initialization vector, or IV.\n",
    "\n",
    "Implement CBC mode by hand by taking the ECB function you wrote earlier, making it encrypt instead of decrypt (verify this by decrypting whatever you encrypt to test), and using your XOR function from the previous exercise to combine them.\n",
    "\n",
    "The file here is intelligible (somewhat) when CBC decrypted against \"YELLOW SUBMARINE\" with an IV of all ASCII 0 (\\x00\\x00\\x00 &c)\n",
    "\n",
    "### Don't cheat.\n",
    "Do not use OpenSSL's CBC code to do CBC mode, even to verify your results. What's the point of even doing this stuff if you aren't going to learn from it?"
   ]
  },
  {
   "cell_type": "code",
   "execution_count": 1,
   "metadata": {},
   "outputs": [],
   "source": [
    "from cryptopals import *"
   ]
  },
  {
   "cell_type": "code",
   "execution_count": 2,
   "metadata": {
    "collapsed": true
   },
   "outputs": [],
   "source": [
    "def encrypt_AES_128_ECB(plaintext, key):\n",
    "    BLOCK_SIZE = 16\n",
    "    '''Encrypts a plaintext string using a given key, using AES-128 in ECB mode.'''\n",
    "    if len(key) != BLOCK_SIZE:\n",
    "        raise ValueError('Key for AES-128 must be %d bytes' % BLOCK_SIZE)\n",
    "    \n",
    "    padded_plaintext = str(pad_pkcs7(plaintext, BLOCK_SIZE))\n",
    "    return AES.new(key, AES.MODE_ECB).encrypt(padded_plaintext)\n",
    "\n",
    "\n",
    "def encrypt_AES_128_ECB_base64(plaintext_base64, key):\n",
    "    return encrypt_AES_128_ECB(str(base64_to_bytes(plaintext_base64)), key)\n",
    "\n",
    "\n",
    "def encrypt_AES_128_CBC(plaintext, key, IV):\n",
    "    BLOCK_SIZE = 16\n",
    "    '''Encrypts a plaintext string using a given key (str) and IV (str), using AES-128 in CBC mode.'''\n",
    "    if len(key) != BLOCK_SIZE:\n",
    "        raise ValueError('Key for AES-128 must be %d bytes' % BLOCK_SIZE)\n",
    "        \n",
    "    if len(IV) != BLOCK_SIZE:\n",
    "        raise ValueError('IV for AES-128 in CBC mode must be %d bytes' % BLOCK_SIZE)\n",
    "    \n",
    "    AES_128_ECB = AES.new(key, AES.MODE_ECB)\n",
    "    padded_plaintext = pad_pkcs7(plaintext, BLOCK_SIZE)\n",
    "    \n",
    "    ciphertext = b''\n",
    "    for start_idx in xrange(0, len(padded_plaintext), BLOCK_SIZE):\n",
    "        block_cipher_input = fixed_xor(bytearray(IV), padded_plaintext[start_idx : start_idx+BLOCK_SIZE])\n",
    "        block_cipher_output = AES_128_ECB.encrypt(str(block_cipher_input))\n",
    "        ciphertext += block_cipher_output\n",
    "        IV = block_cipher_output\n",
    "    \n",
    "    return ciphertext\n",
    "\n",
    "\n",
    "def decrypt_AES_128_CBC(ciphertext, key, IV):\n",
    "    BLOCK_SIZE = 16\n",
    "    '''Decrypts a ciphertext string using a given key (str) and IV (str), using AES-128 in CBC mode.'''\n",
    "    if len(key) != BLOCK_SIZE:\n",
    "        raise ValueError('Key for AES-128 must be %d bytes' % BLOCK_SIZE)\n",
    "        \n",
    "    if len(IV) != BLOCK_SIZE:\n",
    "        raise ValueError('IV for AES-128 in CBC mode must be %d bytes' % BLOCK_SIZE)\n",
    "    \n",
    "    if len(ciphertext) % BLOCK_SIZE != 0:\n",
    "        raise ValueError('Ciphertext for AES-128 in CBC mode must be a multiple of %d bytes' % BLOCK_SIZE)\n",
    "        \n",
    "    AES_128_ECB = AES.new(key, AES.MODE_ECB)\n",
    "    \n",
    "    plaintext = b''\n",
    "    for start_idx in xrange(0, len(ciphertext), BLOCK_SIZE):\n",
    "        block_cipher_input = ciphertext[start_idx : start_idx+BLOCK_SIZE]\n",
    "        block_cipher_output = AES_128_ECB.decrypt(str(block_cipher_input))\n",
    "        plaintext += fixed_xor(bytearray(IV), bytearray(block_cipher_output))\n",
    "        IV = block_cipher_input\n",
    "    \n",
    "    return plaintext"
   ]
  },
  {
   "cell_type": "code",
   "execution_count": null,
   "metadata": {
    "collapsed": true
   },
   "outputs": [],
   "source": []
  },
  {
   "cell_type": "code",
   "execution_count": 3,
   "metadata": {},
   "outputs": [
    {
     "data": {
      "text/plain": [
       "bytearray(b'\\x00\\x00\\x00\\x00\\x00\\x00\\x00\\x00\\x00\\x00\\x00\\x00\\x00\\x00\\x00\\x00')"
      ]
     },
     "execution_count": 3,
     "metadata": {},
     "output_type": "execute_result"
    }
   ],
   "source": [
    "IV = hex_to_bytes('0'*32)\n",
    "IV"
   ]
  },
  {
   "cell_type": "code",
   "execution_count": 4,
   "metadata": {},
   "outputs": [
    {
     "data": {
      "text/plain": [
       "'!\\xb2\\xfb\\xb0w\\xfa;Yw\\x03h\\xc7\\xa2\\x16/\\xe1\\xa11M\\xc91\\xb9\\x0eaA\\x9a\\xcc\\xd1\\xacr;J'"
      ]
     },
     "execution_count": 4,
     "metadata": {},
     "output_type": "execute_result"
    }
   ],
   "source": [
    "ct = encrypt_AES_128_CBC(\"Hello, world! It's CryptoPals!!\", \"YELLOW SUBMARINE\", IV)\n",
    "ct"
   ]
  },
  {
   "cell_type": "code",
   "execution_count": 5,
   "metadata": {},
   "outputs": [
    {
     "data": {
      "text/plain": [
       "bytearray(b\"Hello, world! It\\'s CryptoPals!!\\x01\")"
      ]
     },
     "execution_count": 5,
     "metadata": {},
     "output_type": "execute_result"
    }
   ],
   "source": [
    "decrypt_AES_128_CBC(ct, \"YELLOW SUBMARINE\", IV)"
   ]
  },
  {
   "cell_type": "code",
   "execution_count": null,
   "metadata": {
    "collapsed": true
   },
   "outputs": [],
   "source": []
  },
  {
   "cell_type": "code",
   "execution_count": 6,
   "metadata": {},
   "outputs": [
    {
     "name": "stdout",
     "output_type": "stream",
     "text": [
      "I'm back and I'm ringin' the bell \n",
      "A rockin' on the mike while the fly girls yell \n",
      "In ecstasy in the back of me \n",
      "Well that's my DJ Deshay cuttin' all them Z's \n",
      "Hittin' hard and the girlies goin' crazy \n",
      "Vanilla's on the mike, man I'm not lazy. \n",
      "\n",
      "I'm lettin' my drug kick in \n",
      "It controls my mouth and I begin \n",
      "To just let it flow, let my concepts go \n",
      "My posse's to the side yellin', Go Vanilla Go! \n",
      "\n",
      "Smooth 'cause that's the way I will be \n",
      "And if you don't give a damn, then \n",
      "Why you starin' at me \n",
      "So get off 'cause I control the stage \n",
      "There's no dissin' allowed \n",
      "I'm in my own phase \n",
      "The girlies sa y they love me and that is ok \n",
      "And I can dance better than any kid n' play \n",
      "\n",
      "Stage 2 -- Yea the one ya' wanna listen to \n",
      "It's off my head so let the beat play through \n",
      "So I can funk it up and make it sound good \n",
      "1-2-3 Yo -- Knock on some wood \n",
      "For good luck, I like my rhymes atrocious \n",
      "Supercalafragilisticexpialidocious \n",
      "I'm an effect and that you can bet \n",
      "I can take a fly girl and make her wet. \n",
      "\n",
      "I'm like Samson -- Samson to Delilah \n",
      "There's no denyin', You can try to hang \n",
      "But you'll keep tryin' to get my style \n",
      "Over and over, practice makes perfect \n",
      "But not if you're a loafer. \n",
      "\n",
      "You'll get nowhere, no place, no time, no girls \n",
      "Soon -- Oh my God, homebody, you probably eat \n",
      "Spaghetti with a spoon! Come on and say it! \n",
      "\n",
      "VIP. Vanilla Ice yep, yep, I'm comin' hard like a rhino \n",
      "Intoxicating so you stagger like a wino \n",
      "So punks stop trying and girl stop cryin' \n",
      "Vanilla Ice is sellin' and you people are buyin' \n",
      "'Cause why the freaks are jockin' like Crazy Glue \n",
      "Movin' and groovin' trying to sing along \n",
      "All through the ghetto groovin' this here song \n",
      "Now you're amazed by the VIP posse. \n",
      "\n",
      "Steppin' so hard like a German Nazi \n",
      "Startled by the bases hittin' ground \n",
      "There's no trippin' on mine, I'm just gettin' down \n",
      "Sparkamatic, I'm hangin' tight like a fanatic \n",
      "You trapped me once and I thought that \n",
      "You might have it \n",
      "So step down and lend me your ear \n",
      "'89 in my time! You, '90 is my year. \n",
      "\n",
      "You're weakenin' fast, YO! and I can tell it \n",
      "Your body's gettin' hot, so, so I can smell it \n",
      "So don't be mad and don't be sad \n",
      "'Cause the lyrics belong to ICE, You can call me Dad \n",
      "You're pitchin' a fit, so step back and endure \n",
      "Let the witch doctor, Ice, do the dance to cure \n",
      "So come up close and don't be square \n",
      "You wanna battle me -- Anytime, anywhere \n",
      "\n",
      "You thought that I was weak, Boy, you're dead wrong \n",
      "So come on, everybody and sing this song \n",
      "\n",
      "Say -- Play that funky music Say, go white boy, go white boy go \n",
      "play that funky music Go white boy, go white boy, go \n",
      "Lay down and boogie and play that funky music till you die. \n",
      "\n",
      "Play that funky music Come on, Come on, let me hear \n",
      "Play that funky music white boy you say it, say it \n",
      "Play that funky music A little louder now \n",
      "Play that funky music, white boy Come on, Come on, Come on \n",
      "Play that funky music \n",
      "\u0004\u0004\u0004\u0004\n"
     ]
    }
   ],
   "source": [
    "ct = ''\n",
    "with open('Data/10.txt') as f:\n",
    "    for row in f:\n",
    "        ct += row.strip()\n",
    "\n",
    "print decrypt_AES_128_CBC(base64_to_bytes(ct), \"YELLOW SUBMARINE\", IV)"
   ]
  },
  {
   "cell_type": "code",
   "execution_count": null,
   "metadata": {
    "collapsed": true
   },
   "outputs": [],
   "source": []
  }
 ],
 "metadata": {
  "kernelspec": {
   "display_name": "Python 2",
   "language": "python",
   "name": "python2"
  },
  "language_info": {
   "codemirror_mode": {
    "name": "ipython",
    "version": 2
   },
   "file_extension": ".py",
   "mimetype": "text/x-python",
   "name": "python",
   "nbconvert_exporter": "python",
   "pygments_lexer": "ipython2",
   "version": "2.7.13"
  }
 },
 "nbformat": 4,
 "nbformat_minor": 2
}
