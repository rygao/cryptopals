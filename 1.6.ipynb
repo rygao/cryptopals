{
 "cells": [
  {
   "cell_type": "markdown",
   "metadata": {},
   "source": [
    "# Break repeating-key XOR\n",
    "### It is officially on, now.\n",
    "This challenge isn't conceptually hard, but it involves actual error-prone coding. The other challenges in this set are there to bring you up to speed. This one is there to qualify you. If you can do this one, you're probably just fine up to Set 6.\n",
    "\n",
    "There's a file here. It's been base64'd after being encrypted with repeating-key XOR.\n",
    "\n",
    "Decrypt it.\n",
    "\n",
    "Here's how:\n",
    "\n",
    "1. Let KEYSIZE be the guessed length of the key; try values from 2 to (say) 40.\n",
    "2. Write a function to compute the edit distance/Hamming distance between two strings. The Hamming distance is just the number of differing bits. The distance between:\n",
    "```\n",
    "this is a test\n",
    "```\n",
    "and\n",
    "```\n",
    "wokka wokka!!!\n",
    "```\n",
    "is 37. Make sure your code agrees before you proceed.\n",
    "3. For each KEYSIZE, take the first KEYSIZE worth of bytes, and the second KEYSIZE worth of bytes, and find the edit distance between them. Normalize this result by dividing by KEYSIZE.\n",
    "4. The KEYSIZE with the smallest normalized edit distance is probably the key. You could proceed perhaps with the smallest 2-3 KEYSIZE values. Or take 4 KEYSIZE blocks instead of 2 and average the distances.\n",
    "5. Now that you probably know the KEYSIZE: break the ciphertext into blocks of KEYSIZE length.\n",
    "6. Now transpose the blocks: make a block that is the first byte of every block, and a block that is the second byte of every block, and so on.\n",
    "7. Solve each block as if it was single-character XOR. You already have code to do this.\n",
    "8. For each block, the single-byte XOR key that produces the best looking histogram is the repeating-key XOR key byte for that block. Put them together and you have the key.\n",
    "\n",
    "This code is going to turn out to be surprisingly useful later on. Breaking repeating-key XOR (\"Vigenere\") statistically is obviously an academic exercise, a \"Crypto 101\" thing. But more people \"know how\" to break it than can actually break it, and a similar technique breaks something much more important.\n",
    "\n",
    "### No, that's not a mistake.\n",
    "We get more tech support questions for this challenge than any of the other ones. We promise, there aren't any blatant errors in this text. In particular: the \"wokka wokka!!!\" edit distance really is 37."
   ]
  },
  {
   "cell_type": "code",
   "execution_count": 1,
   "metadata": {
    "collapsed": true
   },
   "outputs": [],
   "source": [
    "from cryptopals import *"
   ]
  },
  {
   "cell_type": "code",
   "execution_count": 40,
   "metadata": {
    "collapsed": true
   },
   "outputs": [],
   "source": [
    "def hamming_distance(b1, b2):\n",
    "    '''Finds the bit-wise edit distance / Hamming distance between two byte arrays'''\n",
    "    xor_bit_string = ''.join(['{0:b}'.format(b) for b in fixed_xor(b1, b2)])\n",
    "    return sum([c == '1' for c in xor_bit_string])\n",
    "\n",
    "def hamming_distance_str(s1, s2):\n",
    "    '''Finds the bit-wise edit distance / Hamming distance between two ascii-encoded strings'''\n",
    "    return hamming_distance(bytearray(s1), bytearray(s2))"
   ]
  },
  {
   "cell_type": "code",
   "execution_count": 37,
   "metadata": {
    "collapsed": true
   },
   "outputs": [],
   "source": [
    "?reduce"
   ]
  },
  {
   "cell_type": "code",
   "execution_count": null,
   "metadata": {
    "collapsed": true
   },
   "outputs": [],
   "source": []
  },
  {
   "cell_type": "code",
   "execution_count": 28,
   "metadata": {
    "collapsed": true
   },
   "outputs": [],
   "source": [
    "t1 = 'this is a test'\n",
    "t2 = 'wokka wokka!!!'"
   ]
  },
  {
   "cell_type": "code",
   "execution_count": 29,
   "metadata": {
    "collapsed": false
   },
   "outputs": [
    {
     "data": {
      "text/plain": [
       "bytearray(b'\\x03\\x07\\x02\\x18AI\\x04O\\nK\\x15DRU')"
      ]
     },
     "execution_count": 29,
     "metadata": {},
     "output_type": "execute_result"
    }
   ],
   "source": [
    "fixed_xor(bytearray(t1), bytearray(t2))"
   ]
  },
  {
   "cell_type": "code",
   "execution_count": 35,
   "metadata": {
    "collapsed": false
   },
   "outputs": [
    {
     "data": {
      "text/plain": [
       "37"
      ]
     },
     "execution_count": 35,
     "metadata": {},
     "output_type": "execute_result"
    }
   ],
   "source": [
    "sum([sum(map(lambda c: c=='1', '{0:b}'.format(b))) for b in fixed_xor(bytearray(t1), bytearray(t2))])"
   ]
  },
  {
   "cell_type": "code",
   "execution_count": 31,
   "metadata": {
    "collapsed": false
   },
   "outputs": [
    {
     "name": "stdout",
     "output_type": "stream",
     "text": [
      "[116, 104, 105, 115, 32, 105, 115, 32, 97, 32, 116, 101, 115, 116]\n",
      "[119, 111, 107, 107, 97, 32, 119, 111, 107, 107, 97, 33, 33, 33]\n"
     ]
    }
   ],
   "source": [
    "print list(bytearray(t1))\n",
    "print list(bytearray(t2))"
   ]
  },
  {
   "cell_type": "code",
   "execution_count": 34,
   "metadata": {
    "collapsed": false
   },
   "outputs": [
    {
     "data": {
      "text/plain": [
       "[True, False, False, True, False, False, True]"
      ]
     },
     "execution_count": 34,
     "metadata": {},
     "output_type": "execute_result"
    }
   ],
   "source": [
    "map(lambda c: c=='1', '{0:b}'.format(73))"
   ]
  },
  {
   "cell_type": "code",
   "execution_count": 41,
   "metadata": {
    "collapsed": false
   },
   "outputs": [
    {
     "data": {
      "text/plain": [
       "37"
      ]
     },
     "execution_count": 41,
     "metadata": {},
     "output_type": "execute_result"
    }
   ],
   "source": [
    "hamming_distance_str(t1, t2)"
   ]
  },
  {
   "cell_type": "code",
   "execution_count": null,
   "metadata": {
    "collapsed": true
   },
   "outputs": [],
   "source": []
  }
 ],
 "metadata": {
  "kernelspec": {
   "display_name": "Python 2",
   "language": "python",
   "name": "python2"
  },
  "language_info": {
   "codemirror_mode": {
    "name": "ipython",
    "version": 2
   },
   "file_extension": ".py",
   "mimetype": "text/x-python",
   "name": "python",
   "nbconvert_exporter": "python",
   "pygments_lexer": "ipython2",
   "version": "2.7.13"
  }
 },
 "nbformat": 4,
 "nbformat_minor": 2
}
